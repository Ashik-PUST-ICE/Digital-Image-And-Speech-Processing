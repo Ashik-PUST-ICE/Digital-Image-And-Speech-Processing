{
 "cells": [
  {
   "cell_type": "markdown",
   "metadata": {},
   "source": [
    "Lab-06: Write a program to execute the following speech preprocessing\n",
    "• Identify sampling frequency.\n",
    "• Identify bit resolution\n",
    "• Make downsampling frequency then save the speech signal."
   ]
  },
  {
   "cell_type": "code",
   "execution_count": null,
   "metadata": {},
   "outputs": [],
   "source": [
    "import numpy as np\n",
    "import librosa\n",
    "import librosa.display\n",
    "import matplotlib.pyplot as plt\n",
    "from scipy.io import wavfile\n",
    "from IPython.display import Audio, display\n",
    "# Example usage:\n",
    "file_path = r\"C:\\Users\\Win-10\\OneDrive\\Desktop\\Lab_3.2\\Recording.wav\"\n",
    "def plot_waveform_and_spectrogram(signal, sr, title):\n",
    "    # Plot the waveform\n",
    "    plt.figure(figsize=(12, 6))\n",
    "    plt.subplot(2, 1, 1)\n",
    "    librosa.display.waveshow(signal, sr=sr, alpha=0.5)\n",
    "    plt.title('Waveform of the speech signal - ' + title)\n",
    "    plt.xlabel('Time (s)')\n",
    "    plt.ylabel('Amplitude')\n",
    "    plt.grid()\n",
    "# Plot the spectrogram\n",
    "    plt.subplot(2, 1, 2)\n",
    "    spectrogram = librosa.feature.melspectrogram(y=signal, sr=sr)\n",
    "    librosa.display.specshow(librosa.power_to_db(spectrogram, ref=np.max), sr=sr, x_axis='time', y_axis='mel')\n",
    "    plt.colorbar(format='%+2.0f dB')\n",
    "    plt.title('Mel Spectrogram - ' + title)\n",
    "    plt.xlabel('Time (s)')\n",
    "    plt.ylabel('Frequency (Hz)')\n",
    "    plt.tight_layout()\n",
    "    plt.show()\n",
    "# Load the audio file with Librosa\n",
    "signal, sr = librosa.load(file_path, sr=None)\n",
    "# Identify sampling frequency and bit resolution\n",
    "print('Original Sampling Frequency:', sr)\n",
    "print('Original Bit Resolution:', signal.dtype)\n",
    "# Plot waveform and spectrogram of the original signal\n",
    "plot_waveform_and_spectrogram(signal, sr, 'Original')\n",
    "# Play the original signal\n",
    "display(Audio(signal, rate=sr))\n",
    "# Set sampling frequency to 8000 Hz\n",
    "sr_8000 = 8500\n",
    "signal_resampled = librosa.resample(signal, orig_sr=sr, target_sr=sr_8000)\n",
    "# Identify sampling frequency and bit resolution of the resampled signal\n",
    "print('Resampled Sampling Frequency:', sr_8000)\n",
    "print('Resampled Bit Resolution:', signal_resampled.dtype)\n",
    "# Save the resampled signal\n",
    "wavfile.write('speech_signal_8000Hz.wav', sr_8000, (signal_resampled * 32767).astype(np.int16))\n",
    "# Plot waveform and spectrogram of the resampled signal\n",
    "plot_waveform_and_spectrogram(signal_resampled, sr_8000, 'Resampled (8000 Hz)')\n",
    "# Play the resampled signal\n",
    "display(Audio(signal_resampled, rate=sr_8000))\n",
    "# Reduce bit resolution to 16 bits\n",
    "signal_resampled_16bit = (signal_resampled * 32767).astype(np.int16)\n",
    "# Identify sampling frequency and bit resolution of the resampled signal\n",
    "print('Resampled Sampling Frequency:', sr_8000)\n",
    "print('Resampled Bit Resolution:', signal_resampled_16bit.dtype)\n",
    "# Save the resampled signal with reduced bit resolution\n",
    "wavfile.write('speech_signal_8000Hz_16bit.wav', sr_8000, signal_resampled_16bit)\n",
    "# Plot waveform and spectrogram of the resampled signal\n",
    "plot_waveform_and_spectrogram(signal_resampled, sr_8000, 'Resampled (8000 Hz)')\n",
    "# Play the resampled signal\n",
    "display(Audio(signal_resampled, rate=sr_8000))"
   ]
  }
 ],
 "metadata": {
  "kernelspec": {
   "display_name": "Python 3",
   "language": "python",
   "name": "python3"
  },
  "language_info": {
   "codemirror_mode": {
    "name": "ipython",
    "version": 3
   },
   "file_extension": ".py",
   "mimetype": "text/x-python",
   "name": "python",
   "nbconvert_exporter": "python",
   "pygments_lexer": "ipython3",
   "version": "3.12.0"
  }
 },
 "nbformat": 4,
 "nbformat_minor": 2
}
